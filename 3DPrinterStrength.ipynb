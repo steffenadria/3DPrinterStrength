{
 "cells": [
  {
   "cell_type": "markdown",
   "id": "0fb50465-5726-4a65-aa12-f9dbae15d5ee",
   "metadata": {},
   "source": [
    "I am trying to predict whether a 3D print is strong or weak in terms of tensile strength. I'll be analyzing it from the perspective of 9 variables found in the dataset: layer height, wall thickness, infill density, infill pattern, nozzle temperature, bed temperature, print speed, material used and fan speed.\n",
    "\n",
    "Layer height refers to the amount of material laid down in one pass. Values between 0.1 mm and 0.3 mm are typical. Higher values are faster but produce a coarser finish.\n",
    "\n",
    "Wall thickness has to do with the fact that 3D prints are generally hollow. The item's exterior as well as its interior supports have a thickness associated with them called wall thickness. There is little in the way of restrictions on this; this data set goes from 1 mm to 10 mm.\n",
    "\n",
    "Infill density refers to how much these supports fill up the interior of the model. For an appearance piece it might be 5%, while 100% can survive high loadings but these parts are brittle.\n",
    "\n",
    "Infill pattern are often honeycomb/hexagonal or grid/square as we have here. Theoretically any shape could be used but these are common.\n",
    "\n",
    "The nozzle melts the raw material and then prints it onto the part. The temperature is a variable that can be used to manipulate the print. It obviously must exceed the melting temperature of the plastic and the plastic becomes more of a liquid as it increases, which can be desireable or not.\n",
    "\n",
    "The bed supports the 3D print, and affects the cooling rate of the plastic. A warm bed means slow cooling, while a cool one means fast cooling. Typical temperatures are between 40 and 80 degrees Celsius.\n",
    "\n",
    "Print speed indicates how quickly the material is laid down. Values vary by printer with the fastest printers putting out up to 600 mm/s.\n",
    "\n",
    "Material in this dataset is PLA or ABS, which are the most common plastics in 3D printing.\n",
    "\n",
    "There is a fan pointing at the nozzle and affects temperatures and solidification time. In this dataset it's measured as a percentage of maximum possible speed. Maximum speed is in the thousands of RPM.\n",
    "\n",
    "Tensile strength is properly a material property, but 3D printed parts are harder to analyze than solid components. ABS plastic can be up to about 40 MPa while PLA can be up to around 50 MPa, with the caveat that it's more brittle so less likely to actually meet its proper strength.\n",
    "\n",
    "Based on my experience in materials science, I predict that geometry (the first four variables) will not have an impact, while temperature (including cooling fan speed) and material will be the biggest influences. The dataset is found on Kaggle at https://www.kaggle.com/datasets/afumetto/3dprinter/data\n",
    "\n",
    "| Statistic | Layer Height (mm) | Wall Thickness (mm) | Infill Density (%) | Nozzle Temperature (°C) | Bed Temperature (°C) | Print Speed (mm/s) | Fan Speed (%) | Tensile Strength (MPa) |\r\n",
    "|-----------|-------------------|---------------------|--------------------|-------------------------|----------------------|--------------------|---------------|------------------------|\r\n",
    "| Mean      | 0.11              | 5.22                | 53.4               | 221.5                   | 70                   | 64                 | 50            | 20.08                  |\r\n",
    "| Minimum   | 0.02              | 1                   | 10                 | 200                     | 60                   | 40                 | 0             | 4                      |\r\n",
    "| Maximum   | 0.2               | 10                  | 90                 | 250                     | 80                   | 120                | 100           | 37                   \n",
    "\n",
    "This is a summary of my data. Tensile strength is my target variable and it will be transformed into a categorical variable. This table shows 8 of my 10 variables, the other which of two are categorical: material, which is 50% ABS and 50% PLA, and infill pattern, which is 50% rectangular (grid) and 50% hexagonal (honeycomb). Applying a classification on strength between values above and below the mean, 52% were strong while 48% were weslightly off from what would be expected splitting on the medianean). There are 50 lines in the data set with no missing values.\n",
    "\n",
    "Tensile strength is a continuous variable in the original dataset of 3D printed items. I've reformed it into a categorical variable, split at the mean, with 1 corresponding to high strength and 0 corresponding to low strength. I chose this relatively simple classification because I did not feel I had enough data to do something more advanced. If I had more data I might classify it into high strength (mean+1SD), low strength (mean-1SD) and medium strength (everything else) with the objective being getting a truly strong 3D print, but that would end up with just a handful of points in the high and low strength choices. Infill pattern, the way the interior structure is formed, is either honeycomb (hexagonal) or grid (square) which will be encoded as 0 and 1, respectively, while material is ABS plastic or PLA plastic, which will be encoded as 0 and 1, respectively."
   ]
  },
  {
   "cell_type": "code",
   "execution_count": 1,
   "id": "ca8638fc-38bb-434b-ac4d-b8ee7d18dc5a",
   "metadata": {},
   "outputs": [],
   "source": [
    "# Standard imports \n",
    "import numpy as np\n",
    "import pandas as pd\n",
    "import matplotlib.pyplot as plt\n",
    "import seaborn as sn\n",
    "import statsmodels.api as sm\n",
    "\n",
    "# Required for modeling and evaluation\n",
    "from sklearn.linear_model import LinearRegression, LogisticRegression\n",
    "from sklearn.model_selection import train_test_split\n",
    "from sklearn.metrics import accuracy_score, precision_score, recall_score\n",
    "from sklearn.preprocessing import OneHotEncoder, MinMaxScaler\n",
    "from sklearn.feature_selection import SequentialFeatureSelector"
   ]
  },
  {
   "cell_type": "code",
   "execution_count": 2,
   "id": "888b01e0-f576-4824-a4e8-bbbfabc22d2b",
   "metadata": {},
   "outputs": [],
   "source": [
    "#data is from a file called 3dprinter.csv\n",
    "input_data = pd.read_csv('3dprinter.csv', delimiter = ',')\n",
    "#tensile strength is the target variable\n",
    "strength=np.array(input_data.tensile_strength)\n",
    "\n",
    "#reclassifying strength into \"low\" and \"high\" on the mean\n",
    "target_bins = [-np.inf, np.mean(strength), np.inf]\n",
    "target_labels = [0,1]\n",
    "\n",
    "#turning strength into one-hot encoding variable\n",
    "strength_categorized=pd.DataFrame(pd.cut(strength, bins=target_bins, labels=target_labels))\n",
    "encoder = OneHotEncoder(sparse_output=False)\n",
    "strength_encoded = encoder.fit_transform(strength_categorized.values.reshape(-1, 1))\n",
    "\n",
    "#changing infill shape and material to binary values and then one-hot encoding them\n",
    "infill_shape_binary = input_data.infill_pattern.map({'honeycomb': 0, 'grid': 1})\n",
    "infill_shape_encoded = encoder.fit_transform(infill_shape_binary.values.reshape(-1,1))\n",
    "material_binary = input_data.material.map({'abs': 0, 'pla': 1})\n",
    "material_encoded = encoder.fit_transform(material_binary.values.reshape(-1,1))\n",
    "\n",
    "#forming a DataFrame for use in train_test_split\n",
    "x=pd.DataFrame({'honeycomb': infill_shape_encoded[:,0], 'grid': infill_shape_encoded[:,1], 'abs': material_encoded[:,0], 'pla': material_encoded[:,1],\n",
    "                'height': input_data.layer_height, 'thickness': input_data.wall_thickness, 'density': input_data.infill_density,\n",
    "                'nozz_temp': input_data.nozzle_temperature,'bed_temp': input_data.bed_temperature, 'speed': input_data.print_speed,\n",
    "                'fan': input_data.fan_speed})\n",
    "\n",
    "#I scaled the data according to its min and max.\n",
    "x_scaled=(x-x.min())/(x.max()-x.min())\n",
    "\n",
    "#making the encoded strength into a dataframe.\n",
    "strength_df=pd.DataFrame(strength_encoded,columns=[\"High\",\"Low\"])\n",
    "\n",
    "#breaking into test and train with 15% testing data\n",
    "X_train, X_test, Y_train, Y_test = train_test_split(x_scaled[['honeycomb','grid','abs','pla','height','thickness','density','nozz_temp',\n",
    "                                                          'bed_temp','speed','fan']], strength_df[[\"Low\",\"High\"]], test_size=0.15, random_state=5)"
   ]
  },
  {
   "cell_type": "markdown",
   "id": "4b6b4c91-993a-4f83-ae37-a11bfd88faa4",
   "metadata": {},
   "source": [
    "And one issue with this dataset is the inability to visualize the 11-dimensional data! I will plot wall thickness and nozzle temperature for a partial visualization."
   ]
  },
  {
   "cell_type": "code",
   "execution_count": 3,
   "id": "8c4f4b0e-444b-40c3-8261-8171d5b50daa",
   "metadata": {},
   "outputs": [
    {
     "data": {
      "image/png": "[encoded data removed]",
      "text/plain": [
       "<Figure size 640x480 with 1 Axes>"
      ]
     },
     "metadata": {},
     "output_type": "display_data"
    }
   ],
   "source": [
    "# Plot training set; label the axes based on the feature names\n",
    "Y_train_decoded = np.argmax(Y_train, axis=1)\n",
    "plt.scatter(X_train['nozz_temp'], X_train['thickness'], c=Y_train_decoded, edgecolors='k', cmap=plt.cm.jet, alpha=0.6)\n",
    "plt.title('Strength by Nozzle Temperature and Wall Thickness')\n",
    "plt.xlabel('Nozzle Temperature (proportion of scale)')\n",
    "plt.ylabel('Wall Thickness (proportion of scale)')\n",
    "plt.show()"
   ]
  },
  {
   "cell_type": "markdown",
   "id": "7a069f1f-8922-4dc8-986a-02d970778d89",
   "metadata": {},
   "source": [
    "The high strength is generally at the right, corresponding to high nozzle temperatures."
   ]
  },
  {
   "cell_type": "code",
   "execution_count": 4,
   "id": "d9d71f13-357f-45db-bdd5-401b26c4a909",
   "metadata": {},
   "outputs": [
    {
     "name": "stdout",
     "output_type": "stream",
     "text": [
      "Selected Features: Index(['pla', 'height', 'density', 'speed'], dtype='object')\n",
      "75.0%\n"
     ]
    },
    {
     "data": {
      "text/html": [
       "<style type=\"text/css\">\n",
       "#T_fde0a_row0_col0, #T_fde0a_row1_col1, #T_fde0a_row2_col2, #T_fde0a_row3_col3 {\n",
       "  background-color: #b40426;\n",
       "  color: #f1f1f1;\n",
       "}\n",
       "#T_fde0a_row0_col1 {\n",
       "  background-color: #6e90f2;\n",
       "  color: #f1f1f1;\n",
       "}\n",
       "#T_fde0a_row0_col2, #T_fde0a_row2_col0, #T_fde0a_row2_col1, #T_fde0a_row2_col3, #T_fde0a_row3_col1 {\n",
       "  background-color: #3b4cc0;\n",
       "  color: #f1f1f1;\n",
       "}\n",
       "#T_fde0a_row0_col3 {\n",
       "  background-color: #4055c8;\n",
       "  color: #f1f1f1;\n",
       "}\n",
       "#T_fde0a_row1_col0 {\n",
       "  background-color: #97b8ff;\n",
       "  color: #000000;\n",
       "}\n",
       "#T_fde0a_row1_col2 {\n",
       "  background-color: #6687ed;\n",
       "  color: #f1f1f1;\n",
       "}\n",
       "#T_fde0a_row1_col3 {\n",
       "  background-color: #536edd;\n",
       "  color: #f1f1f1;\n",
       "}\n",
       "#T_fde0a_row3_col0 {\n",
       "  background-color: #5470de;\n",
       "  color: #f1f1f1;\n",
       "}\n",
       "#T_fde0a_row3_col2 {\n",
       "  background-color: #4e68d8;\n",
       "  color: #f1f1f1;\n",
       "}\n",
       "</style>\n",
       "<table id=\"T_fde0a\">\n",
       "  <thead>\n",
       "    <tr>\n",
       "      <th class=\"blank level0\" >&nbsp;</th>\n",
       "      <th id=\"T_fde0a_level0_col0\" class=\"col_heading level0 col0\" >('pla',)</th>\n",
       "      <th id=\"T_fde0a_level0_col1\" class=\"col_heading level0 col1\" >('height',)</th>\n",
       "      <th id=\"T_fde0a_level0_col2\" class=\"col_heading level0 col2\" >('density',)</th>\n",
       "      <th id=\"T_fde0a_level0_col3\" class=\"col_heading level0 col3\" >('speed',)</th>\n",
       "    </tr>\n",
       "  </thead>\n",
       "  <tbody>\n",
       "    <tr>\n",
       "      <th id=\"T_fde0a_level0_row0\" class=\"row_heading level0 row0\" >pla</th>\n",
       "      <td id=\"T_fde0a_row0_col0\" class=\"data row0 col0\" >1.000000</td>\n",
       "      <td id=\"T_fde0a_row0_col1\" class=\"data row0 col1\" >0.112218</td>\n",
       "      <td id=\"T_fde0a_row0_col2\" class=\"data row0 col2\" >-0.228921</td>\n",
       "      <td id=\"T_fde0a_row0_col3\" class=\"data row0 col3\" >-0.126567</td>\n",
       "    </tr>\n",
       "    <tr>\n",
       "      <th id=\"T_fde0a_level0_row1\" class=\"row_heading level0 row1\" >height</th>\n",
       "      <td id=\"T_fde0a_row1_col0\" class=\"data row1 col0\" >0.112218</td>\n",
       "      <td id=\"T_fde0a_row1_col1\" class=\"data row1 col1\" >1.000000</td>\n",
       "      <td id=\"T_fde0a_row1_col2\" class=\"data row1 col2\" >-0.056230</td>\n",
       "      <td id=\"T_fde0a_row1_col3\" class=\"data row1 col3\" >-0.059278</td>\n",
       "    </tr>\n",
       "    <tr>\n",
       "      <th id=\"T_fde0a_level0_row2\" class=\"row_heading level0 row2\" >density</th>\n",
       "      <td id=\"T_fde0a_row2_col0\" class=\"data row2 col0\" >-0.228921</td>\n",
       "      <td id=\"T_fde0a_row2_col1\" class=\"data row2 col1\" >-0.056230</td>\n",
       "      <td id=\"T_fde0a_row2_col2\" class=\"data row2 col2\" >1.000000</td>\n",
       "      <td id=\"T_fde0a_row2_col3\" class=\"data row2 col3\" >-0.151192</td>\n",
       "    </tr>\n",
       "    <tr>\n",
       "      <th id=\"T_fde0a_level0_row3\" class=\"row_heading level0 row3\" >speed</th>\n",
       "      <td id=\"T_fde0a_row3_col0\" class=\"data row3 col0\" >-0.126567</td>\n",
       "      <td id=\"T_fde0a_row3_col1\" class=\"data row3 col1\" >-0.059278</td>\n",
       "      <td id=\"T_fde0a_row3_col2\" class=\"data row3 col2\" >-0.151192</td>\n",
       "      <td id=\"T_fde0a_row3_col3\" class=\"data row3 col3\" >1.000000</td>\n",
       "    </tr>\n",
       "  </tbody>\n",
       "</table>\n"
      ],
      "text/plain": [
       "<pandas.io.formats.style.Styler at 0x18aae55c440>"
      ]
     },
     "execution_count": 4,
     "metadata": {},
     "output_type": "execute_result"
    }
   ],
   "source": [
    "#I'm using linear regression for this classification problem because it is robust, simple and easily interpretable. I've classified the target variable\n",
    "#into high and low strength, with the goal being to produce strong prints. It is not ideal for all classification problems, but as my target variable\n",
    "#is ordinal it may be appropriate.\n",
    "\n",
    "#using linear regression\n",
    "model=LinearRegression()\n",
    "\n",
    "#using sci-kit learn's sequential feature selector to choose variables with R-square as the target, minimum threshold of 0.01\n",
    "sfs = SequentialFeatureSelector(model, \n",
    "    n_features_to_select='auto',\n",
    "    direction=\"forward\",\n",
    "    scoring=\"r2\",\n",
    "    cv=5,\n",
    "    tol=0.01\n",
    ")\n",
    "\n",
    "#fit the model\n",
    "sfs.fit(X_train, Y_train)\n",
    "\n",
    "# Get selected features and print them out\n",
    "selected_features_mask = sfs.get_support()\n",
    "selected_features_names = X_train.columns[selected_features_mask] if hasattr(X_train, 'columns') else None\n",
    "print(\"Selected Features:\", selected_features_names)\n",
    "\n",
    "# Transform the X datasets to remove the unselected features\n",
    "X_train_selected = sfs.transform(X_train)\n",
    "X_test_selected = sfs.transform(X_test)\n",
    "\n",
    "# Fit and evaluate the model on selected features\n",
    "model.fit(X_train_selected, Y_train)\n",
    "Y_pred = np.round(model.predict(X_test_selected))\n",
    "\n",
    "#correlation plot to show how the choen variables are related\n",
    "corr=pd.DataFrame(X_train_selected, columns=[selected_features_names]).corr()\n",
    "corr.style.background_gradient(cmap='coolwarm')"
   ]
  },
  {
   "cell_type": "markdown",
   "id": "454a6e09-17d2-4c9c-be02-05ef3228ad4c",
   "metadata": {},
   "source": [
    "This selected PLA (and dropped ABS, as expected due to collinearity), layer height, infill density and print speed.\n",
    "\n",
    "I was expecting PLA and print speed to matter. Layer height in retrospect does make sense as the bonding between layers is an important factor for strength. It occurs to me that density may make sense as well, depending on how strength was defined. Strength divides breaking force by cross-sectional area - is this dataset using the actual area of plastic being torn, or the outside area irrespective of density? If the latter, there is no surprise that density figures into it. An accuracy of 75% seems reasonable for such a small dataset. The heatmap shows that there's not significant collinearity between the variables chosen (highest value is 0.23) and thus they are likely appropriate."
   ]
  },
  {
   "cell_type": "markdown",
   "id": "9523dbfa-0e36-4d70-a1e2-085315fcddcf",
   "metadata": {},
   "source": [
    "We see here that 6 out of 8 were classified correctly, matching the accuracy of 75%. 2 were predicted high strength but were actually low strength. Recall for the low prediction is 60%, while for \n",
    "it was 100%. Precision for the low prediction is 100% while for for the high prediction it's 60%. Weighted, recall is 75% and precision is 85%. The F1 score is 80%."
   ]
  },
  {
   "cell_type": "code",
   "execution_count": 7,
   "id": "9dc0f771-b569-49f2-8ae6-2c6838d3c8df",
   "metadata": {},
   "outputs": [
    {
     "name": "stdout",
     "output_type": "stream",
     "text": [
      "                            OLS Regression Results                            \n",
      "==============================================================================\n",
      "Dep. Variable:                      y   R-squared:                       0.547\n",
      "Model:                            OLS   Adj. R-squared:                  0.498\n",
      "Method:                 Least Squares   F-statistic:                     11.16\n",
      "Date:                Fri, 11 Jul 2025   Prob (F-statistic):           4.85e-06\n",
      "Time:                        20:31:22   Log-Likelihood:                -13.668\n",
      "No. Observations:                  42   AIC:                             37.34\n",
      "Df Residuals:                      37   BIC:                             46.02\n",
      "Df Model:                           4                                         \n",
      "Covariance Type:            nonrobust                                         \n",
      "==============================================================================\n",
      "                 coef    std err          t      P>|t|      [0.025      0.975]\n",
      "------------------------------------------------------------------------------\n",
      "const          1.1291      0.176      6.415      0.000       0.772       1.486\n",
      "x1            -0.4834      0.115     -4.189      0.000      -0.717      -0.250\n",
      "x2            -0.3518      0.159     -2.214      0.033      -0.674      -0.030\n",
      "x3            -0.5723      0.191     -3.003      0.005      -0.958      -0.186\n",
      "x4             0.4515      0.158      2.862      0.007       0.132       0.771\n",
      "==============================================================================\n",
      "Omnibus:                        0.472   Durbin-Watson:                   2.020\n",
      "Prob(Omnibus):                  0.790   Jarque-Bera (JB):                0.604\n",
      "Skew:                           0.084   Prob(JB):                        0.739\n",
      "Kurtosis:                       2.437   Cond. No.                         6.50\n",
      "==============================================================================\n",
      "\n",
      "Notes:\n",
      "[1] Standard Errors assume that the covariance matrix of the errors is correctly specified.\n"
     ]
    }
   ],
   "source": [
    "#add a constant for use of statsmodels for analysis\n",
    "X_selected_with_const = sm.add_constant(X_train_selected)\n",
    "\n",
    "# Fit the OLS model, needs binary encoding so using argmax to convert Y_train to binary\n",
    "ols_model = sm.OLS(np.argmax(Y_train,axis=1), X_selected_with_const).fit()\n",
    "\n",
    "# Print the summary to get p-values\n",
    "print(ols_model.summary())"
   ]
  },
  {
   "cell_type": "markdown",
   "id": "f33ffcc7-7648-4658-8514-d2db80c6564d",
   "metadata": {},
   "source": [
    "We see that all four variables and the F test are all under the critical alpha of 0.05, indicating statistical significance, which combined with an accuracy of 0.75, indicates this to be a good model.\n",
    "The sign of the relevant values are not what I would expect. PLA breaks more easily than ABS so I do expect that value, but height, density, and speed are not what I was expecting. Because the interlayer bonding is the weak point in 3D printers, I thought taller layers would have more strength. Density should also correspond to more breaking force but it's not clear how strength was measured vis-a-vis density. I would have thought that slower printers were stronger. But this is the point of data science - finding patterns not immediately clear to human minds."
   ]
  },
  {
   "cell_type": "code",
   "execution_count": 16,
   "id": "ed3b8a98-5e89-41fc-98b7-fdbb22cd1422",
   "metadata": {},
   "outputs": [
    {
     "name": "stdout",
     "output_type": "stream",
     "text": [
      "75.0%\n"
     ]
    },
    {
     "data": {
      "image/png": "[encoded data removed]",
      "text/plain": [
       "<Figure size 640x480 with 2 Axes>"
      ]
     },
     "metadata": {},
     "output_type": "display_data"
    },
    {
     "name": "stdout",
     "output_type": "stream",
     "text": [
      "Weighted precision is: 85.0%\n",
      "Weighted recall is: 75.0%\n",
      "Weighted F1 score is: 79.69%\n"
     ]
    }
   ],
   "source": [
    "#calculate accuracy by seeing where Y_test and Y_pred are equal\n",
    "accuracy_lin = np.mean(np.all(Y_test == Y_pred, axis=1))\n",
    "print(f\"{100*accuracy_lin}%\")\n",
    "\n",
    "#converting array to dataframe and decoding to binary for use in confusion matrix\n",
    "Y_pred_bin=pd.DataFrame({'Low':Y_pred[:,0],'High':Y_pred[:,1]},index=Y_test.index).idxmax(axis=1)\n",
    "#converting test dataframe from one-hot to binary to allow for use of confusion matrix\n",
    "Y_test_bin=Y_test.idxmax(axis=1)\n",
    "\n",
    "# Calculate confusion matrix.\n",
    "confusion_matrix = pd.crosstab(Y_test_bin,Y_pred_bin, rownames=['Actual'], colnames=['Predicted'])\n",
    "#Print heat map\n",
    "sn.heatmap(confusion_matrix, annot=True)\n",
    "plt.show()\n",
    "\n",
    "#calculate precision for tests and predictions\n",
    "precision_weighted = precision_score(Y_test, Y_pred, average='weighted')\n",
    "#calculate recall for  tests and predictions\n",
    "recall_weighted = recall_score(Y_test, Y_pred, average='weighted')\n",
    "F1_weighted = 2/(1/precision_weighted + 1/recall_weighted)\n",
    "print(f\"Weighted precision is: {round(100*precision_weighted,2)}%\")\n",
    "print(f\"Weighted recall is: {round(100*recall_weighted,2)}%\")\n",
    "print(f\"Weighted F1 score is: {round(100*F1_weighted,2)}%\")"
   ]
  },
  {
   "cell_type": "raw",
   "id": "33c0fd03-2be5-4727-a655-f508ab5e807c",
   "metadata": {},
   "source": [
    "We see here that 6 out of 8 were classified correctly, matching the accuracy of 75%. 2 were predicted high strength but were actually low strength. Recall for the low prediction is 60%, while for it was 100%. Precision for the low prediction is 100% while for for the high prediction it's 60%. Weighted, recall is 75% and precision is 85%. The F1 score is 80%.\n",
    "\n",
    "I have a weighted precision of 85% and a weighted recall of 75% for linear regression. The F1 score is 80%. Given the small number of data points, this is reasonable. I chose weighted values to try to accurately represent all of the data points.\n",
    "\n",
    "The overall results are an accuracy of 75%, precision of 85%, recall of 75%, and F1 score of 80%, which are good for a first attempt. "
   ]
  },
  {
   "cell_type": "code",
   "execution_count": 17,
   "id": "fe98f891-5311-4efe-aa07-5b4b8b45db44",
   "metadata": {},
   "outputs": [
    {
     "name": "stdout",
     "output_type": "stream",
     "text": [
      "Selected Features: Index(['abs', 'height', 'density', 'speed'], dtype='object')\n",
      "87.5%\n"
     ]
    },
    {
     "data": {
      "text/html": [
       "<style type=\"text/css\">\n",
       "#T_9c5a9_row0_col0, #T_9c5a9_row1_col1, #T_9c5a9_row2_col2, #T_9c5a9_row3_col3 {\n",
       "  background-color: #b40426;\n",
       "  color: #f1f1f1;\n",
       "}\n",
       "#T_9c5a9_row0_col1, #T_9c5a9_row1_col0, #T_9c5a9_row2_col3, #T_9c5a9_row3_col2 {\n",
       "  background-color: #3b4cc0;\n",
       "  color: #f1f1f1;\n",
       "}\n",
       "#T_9c5a9_row0_col2 {\n",
       "  background-color: #a9c6fd;\n",
       "  color: #000000;\n",
       "}\n",
       "#T_9c5a9_row0_col3 {\n",
       "  background-color: #89acfd;\n",
       "  color: #000000;\n",
       "}\n",
       "#T_9c5a9_row1_col2 {\n",
       "  background-color: #5470de;\n",
       "  color: #f1f1f1;\n",
       "}\n",
       "#T_9c5a9_row1_col3 {\n",
       "  background-color: #536edd;\n",
       "  color: #f1f1f1;\n",
       "}\n",
       "#T_9c5a9_row2_col0 {\n",
       "  background-color: #a1c0ff;\n",
       "  color: #000000;\n",
       "}\n",
       "#T_9c5a9_row2_col1, #T_9c5a9_row3_col1 {\n",
       "  background-color: #4961d2;\n",
       "  color: #f1f1f1;\n",
       "}\n",
       "#T_9c5a9_row3_col0 {\n",
       "  background-color: #80a3fa;\n",
       "  color: #f1f1f1;\n",
       "}\n",
       "</style>\n",
       "<table id=\"T_9c5a9\">\n",
       "  <thead>\n",
       "    <tr>\n",
       "      <th class=\"blank level0\" >&nbsp;</th>\n",
       "      <th id=\"T_9c5a9_level0_col0\" class=\"col_heading level0 col0\" >('abs',)</th>\n",
       "      <th id=\"T_9c5a9_level0_col1\" class=\"col_heading level0 col1\" >('height',)</th>\n",
       "      <th id=\"T_9c5a9_level0_col2\" class=\"col_heading level0 col2\" >('density',)</th>\n",
       "      <th id=\"T_9c5a9_level0_col3\" class=\"col_heading level0 col3\" >('speed',)</th>\n",
       "    </tr>\n",
       "  </thead>\n",
       "  <tbody>\n",
       "    <tr>\n",
       "      <th id=\"T_9c5a9_level0_row0\" class=\"row_heading level0 row0\" >abs</th>\n",
       "      <td id=\"T_9c5a9_row0_col0\" class=\"data row0 col0\" >1.000000</td>\n",
       "      <td id=\"T_9c5a9_row0_col1\" class=\"data row0 col1\" >-0.112218</td>\n",
       "      <td id=\"T_9c5a9_row0_col2\" class=\"data row0 col2\" >0.228921</td>\n",
       "      <td id=\"T_9c5a9_row0_col3\" class=\"data row0 col3\" >0.126567</td>\n",
       "    </tr>\n",
       "    <tr>\n",
       "      <th id=\"T_9c5a9_level0_row1\" class=\"row_heading level0 row1\" >height</th>\n",
       "      <td id=\"T_9c5a9_row1_col0\" class=\"data row1 col0\" >-0.112218</td>\n",
       "      <td id=\"T_9c5a9_row1_col1\" class=\"data row1 col1\" >1.000000</td>\n",
       "      <td id=\"T_9c5a9_row1_col2\" class=\"data row1 col2\" >-0.056230</td>\n",
       "      <td id=\"T_9c5a9_row1_col3\" class=\"data row1 col3\" >-0.059278</td>\n",
       "    </tr>\n",
       "    <tr>\n",
       "      <th id=\"T_9c5a9_level0_row2\" class=\"row_heading level0 row2\" >density</th>\n",
       "      <td id=\"T_9c5a9_row2_col0\" class=\"data row2 col0\" >0.228921</td>\n",
       "      <td id=\"T_9c5a9_row2_col1\" class=\"data row2 col1\" >-0.056230</td>\n",
       "      <td id=\"T_9c5a9_row2_col2\" class=\"data row2 col2\" >1.000000</td>\n",
       "      <td id=\"T_9c5a9_row2_col3\" class=\"data row2 col3\" >-0.151192</td>\n",
       "    </tr>\n",
       "    <tr>\n",
       "      <th id=\"T_9c5a9_level0_row3\" class=\"row_heading level0 row3\" >speed</th>\n",
       "      <td id=\"T_9c5a9_row3_col0\" class=\"data row3 col0\" >0.126567</td>\n",
       "      <td id=\"T_9c5a9_row3_col1\" class=\"data row3 col1\" >-0.059278</td>\n",
       "      <td id=\"T_9c5a9_row3_col2\" class=\"data row3 col2\" >-0.151192</td>\n",
       "      <td id=\"T_9c5a9_row3_col3\" class=\"data row3 col3\" >1.000000</td>\n",
       "    </tr>\n",
       "  </tbody>\n",
       "</table>\n"
      ],
      "text/plain": [
       "<pandas.io.formats.style.Styler at 0x18aaf5d0a50>"
      ]
     },
     "execution_count": 17,
     "metadata": {},
     "output_type": "execute_result"
    }
   ],
   "source": [
    "#using logistic regression\n",
    "model=LogisticRegression()\n",
    "\n",
    "Y_trainLog=np.argmax(Y_train.to_numpy(),axis=1)\n",
    "Y_testLog=np.argmax(Y_test.to_numpy(),axis=1)\n",
    "\n",
    "#using sci-kit learn's sequential feature selector with R-square as the target, minimum threshold of 0.01\n",
    "sfs = SequentialFeatureSelector(model, \n",
    "    n_features_to_select='auto',\n",
    "    direction=\"forward\",\n",
    "    scoring=\"accuracy\",\n",
    "    cv=5,\n",
    "    tol=0.01\n",
    ")\n",
    "\n",
    "#fit the model\n",
    "sfs.fit(X_train, Y_trainLog)\n",
    "\n",
    "# Get selected features\n",
    "selected_features_mask = sfs.get_support()\n",
    "selected_features_names = X_train.columns[selected_features_mask] if hasattr(X_train, 'columns') else None\n",
    "print(\"Selected Features:\", selected_features_names)\n",
    "\n",
    "# Transform the datasets\n",
    "X_train_selected = sfs.transform(X_train)\n",
    "X_test_selected = sfs.transform(X_test)\n",
    "\n",
    "# Fit and evaluate the model on selected features\n",
    "model.fit(X_train_selected, Y_trainLog)\n",
    "Y_predLog = model.predict(X_test_selected)\n",
    "\n",
    "accuracy_log=accuracy_score(Y_testLog, Y_predLog)\n",
    "print(f\"{100*accuracy_log}%\")\n",
    "\n",
    "corr=pd.DataFrame(X_train_selected, columns=[selected_features_names]).corr()\n",
    "corr.style.background_gradient(cmap='coolwarm')"
   ]
  },
  {
   "cell_type": "markdown",
   "id": "84fe42da-361e-4ed7-8b82-07d7b7643ac5",
   "metadata": {},
   "source": [
    "Accuracy is a little better (87.5% instead of 75%) with logistic regression, as expected for a classification task. Two things still count against it: it's marginally less interpretable, and when I used unnormalized data it failed to produce good results, with 38% accuracy, while linear regression didn't seem to care. These are both minor issues."
   ]
  },
  {
   "cell_type": "code",
   "execution_count": 18,
   "id": "578d2677-d0d3-43b3-95f7-cf4dd1785c04",
   "metadata": {},
   "outputs": [
    {
     "name": "stdout",
     "output_type": "stream",
     "text": [
      "Optimization terminated successfully.\n",
      "         Current function value: 0.300723\n",
      "         Iterations 8\n",
      "                           Logit Regression Results                           \n",
      "==============================================================================\n",
      "Dep. Variable:                      y   No. Observations:                   42\n",
      "Model:                          Logit   Df Residuals:                       37\n",
      "Method:                           MLE   Df Model:                            4\n",
      "Date:                Fri, 11 Jul 2025   Pseudo R-squ.:                  0.5633\n",
      "Time:                        20:46:48   Log-Likelihood:                -12.630\n",
      "converged:                       True   LL-Null:                       -28.921\n",
      "Covariance Type:            nonrobust   LLR p-value:                 1.454e-06\n",
      "==============================================================================\n",
      "                 coef    std err          z      P>|z|      [0.025      0.975]\n",
      "------------------------------------------------------------------------------\n",
      "const          1.6060      1.423      1.128      0.259      -1.184       4.396\n",
      "x1             4.8436      1.868      2.593      0.010       1.182       8.505\n",
      "x2            -2.7847      1.465     -1.900      0.057      -5.657       0.087\n",
      "x3            -6.1573      2.796     -2.202      0.028     -11.637      -0.677\n",
      "x4             4.3147      1.919      2.248      0.025       0.553       8.076\n",
      "==============================================================================\n"
     ]
    }
   ],
   "source": [
    "#add a constant for use of statsmodels for anlaysis\n",
    "X_selected_with_const = sm.add_constant(X_train_selected)\n",
    "\n",
    "# Fit the OLS model, needs binary encoding so using argmax to convert Y_train to binary\n",
    "logits_model = sm.Logit(Y_trainLog, X_selected_with_const).fit()\n",
    "\n",
    "# Print the summary to get p-values\n",
    "print(logits_model.summary())"
   ]
  },
  {
   "cell_type": "markdown",
   "id": "cea78850-10f7-4d6a-8d1a-acea14ca7137",
   "metadata": {},
   "source": [
    "The regression analytics aren't ideal, with the constant and x2 (layer height) both showing p-values in excess of 0.05, but layer height wasn't much higher so I might still include it in the model."
   ]
  },
  {
   "cell_type": "code",
   "execution_count": 23,
   "id": "0084edf6-9bc4-46f0-98fe-a900f6a3e3da",
   "metadata": {},
   "outputs": [
    {
     "name": "stdout",
     "output_type": "stream",
     "text": [
      "[0 1 1 0 0 0 1 0]\n",
      "[1 1 1 0 0 0 1 0]\n",
      "Weighted precision is: 90.62%\n",
      "Weighted recall is: 87.5%\n",
      "Weighted F1 score is: 89.04%\n"
     ]
    }
   ],
   "source": [
    "#calculate precision for tests and predictions\n",
    "precision_weighted_log = precision_score(Y_testLog, Y_predLog, average='weighted')\n",
    "#calculate recall for  tests and predictions\n",
    "recall_weighted_log = recall_score(Y_testLog, Y_predLog, average='weighted')\n",
    "F1_weighted_log = 2/(1/precision_weighted_log + 1/recall_weighted_log)\n",
    "print(f\"Weighted precision is: {round(100*precision_weighted_log,2)}%\")\n",
    "print(f\"Weighted recall is: {round(100*recall_weighted_log,2)}%\")\n",
    "print(f\"Weighted F1 score is: {round(100*F1_weighted_log,2)}%\")"
   ]
  },
  {
   "cell_type": "markdown",
   "id": "d197ecc2-568b-408b-a198-e3f0b8e3cee1",
   "metadata": {},
   "source": [
    "Precision for the logistic model is 91%, and recall is 88%, F1 score is 89%, and accuracy is 87.5%, all better than for linear regression.\n",
    "Overall, logistic regression has better evaluation features than linear regression, as expected for a classification problem. While this was a fun experiment in linear regression, logistic regression will be my go-to in the future for classification - and I'll make a point of normalizing my values."
   ]
  },
  {
   "cell_type": "markdown",
   "id": "40807ac1-a12a-4d22-8832-47053ab54c77",
   "metadata": {},
   "source": [
    "Overall I'm pleased with how this turned out. I've worked as a 3D printing engineer before and data was rarer back then so there was a lot of guesswork, so it was nice to actually look at it from a mathematical perspective. But before I draw any real conclusions from this, I must repeat the cry of the machine learning engineer: more data!"
   ]
  }
 ],
 "metadata": {
  "kernelspec": {
   "display_name": "Python [conda env:base] *",
   "language": "python",
   "name": "conda-base-py"
  },
  "language_info": {
   "codemirror_mode": {
    "name": "ipython",
    "version": 3
   },
   "file_extension": ".py",
   "mimetype": "text/x-python",
   "name": "python",
   "nbconvert_exporter": "python",
   "pygments_lexer": "ipython3",
   "version": "3.13.5"
  }
 },
 "nbformat": 4,
 "nbformat_minor": 5
}
